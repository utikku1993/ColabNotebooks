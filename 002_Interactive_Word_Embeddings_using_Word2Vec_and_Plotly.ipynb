{
  "nbformat": 4,
  "nbformat_minor": 0,
  "metadata": {
    "colab": {
      "name": "002 Interactive Word Embeddings using Word2Vec and Plotly",
      "provenance": [],
      "collapsed_sections": [],
      "mount_file_id": "18j8BrkQw9UWPyB2OJNz8O6E4aQz6ku0d",
      "authorship_tag": "ABX9TyNn8365pU+07y9YQiNz+s78",
      "include_colab_link": true
    },
    "kernelspec": {
      "name": "python3",
      "display_name": "Python 3"
    },
    "language_info": {
      "name": "python"
    }
  },
  "cells": [
    {
      "cell_type": "markdown",
      "metadata": {
        "id": "view-in-github",
        "colab_type": "text"
      },
      "source": [
        "<a href=\"https://colab.research.google.com/github/utikku1993/ColabNotebooks/blob/main/002_Interactive_Word_Embeddings_using_Word2Vec_and_Plotly.ipynb\" target=\"_parent\"><img src=\"https://colab.research.google.com/assets/colab-badge.svg\" alt=\"Open In Colab\"/></a>"
      ]
    },
    {
      "cell_type": "markdown",
      "source": [
        "# EDA and Preprocessing"
      ],
      "metadata": {
        "id": "77RiEwYhlBJ-"
      }
    },
    {
      "cell_type": "code",
      "source": [
        "from gensim.parsing.preprocessing import remove_stopwords\n",
        "from tqdm import tqdm\n",
        "import pandas as pd\n",
        "import pickle\n",
        "import string\n",
        "import json"
      ],
      "metadata": {
        "id": "F9RrVt2llBU8"
      },
      "execution_count": 1,
      "outputs": []
    },
    {
      "cell_type": "code",
      "execution_count": 2,
      "metadata": {
        "id": "i3VjMhBYjJ6I"
      },
      "outputs": [],
      "source": [
        "data_path = \"/content/drive/MyDrive/Online Learnings/Coursera/Coursera ML Projects/002 Data\""
      ]
    },
    {
      "cell_type": "code",
      "source": [
        "recipe_sources = ['ar', 'epi', 'fn']"
      ],
      "metadata": {
        "id": "CbsSTLpemies"
      },
      "execution_count": 3,
      "outputs": []
    },
    {
      "cell_type": "code",
      "source": [
        "df = pd.DataFrame()\n",
        "\n",
        "for recipe_source in recipe_sources:\n",
        "  data = json.load(open(\"{}/recipes_raw_nosource_{}.json\".format(data_path, recipe_source), 'r'))\n",
        "  df = df.append(list(data.values()), ignore_index=True, sort=False)"
      ],
      "metadata": {
        "id": "baVn0RGWp9oX"
      },
      "execution_count": 4,
      "outputs": []
    },
    {
      "cell_type": "code",
      "source": [
        "def replace_word(x, word='ADVERTISEMENT'):\n",
        "  if type(x) == list:\n",
        "    for a in x:\n",
        "      str(a).replace(word, '')\n",
        "  elif type(x) == str:\n",
        "    x.replace(word, '')\n",
        "  return x"
      ],
      "metadata": {
        "id": "kFi_WKcnubVt"
      },
      "execution_count": 5,
      "outputs": []
    },
    {
      "cell_type": "code",
      "source": [
        "df['ingredients'] = df['ingredients'].apply(replace_word)"
      ],
      "metadata": {
        "id": "3-iNoU1iqXvI"
      },
      "execution_count": 6,
      "outputs": []
    },
    {
      "cell_type": "code",
      "source": [
        "to_remove = ['tablespoon', 'tablespoons', 'teaspoon', 'teaspoons', 'tsp', 'tsps', 'tbsp' , 'tbsps',\n",
        "             'pound', 'pounds', 'grams', 'mg', 'ounce','ounces', 'kg', 'crushed', 'chopped', 'finely',\n",
        "             'softened', 'cups', 'cup']"
      ],
      "metadata": {
        "id": "zWll9pU2vKcT"
      },
      "execution_count": 7,
      "outputs": []
    },
    {
      "cell_type": "code",
      "source": [
        ""
      ],
      "metadata": {
        "colab": {
          "base_uri": "https://localhost:8080/"
        },
        "id": "jj7SoMccvn1E",
        "outputId": "0aa371da-fa8d-468a-ce28-7cf3ecbf617c"
      },
      "execution_count": null,
      "outputs": [
        {
          "output_type": "stream",
          "name": "stdout",
          "text": [
            "Help on built-in function maketrans:\n",
            "\n",
            "maketrans(x, y=None, z=None, /)\n",
            "    Return a translation table usable for str.translate().\n",
            "    \n",
            "    If there is only one argument, it must be a dictionary mapping Unicode\n",
            "    ordinals (integers) or characters to Unicode ordinals, strings or None.\n",
            "    Character keys will be then converted to ordinals.\n",
            "    If there are two arguments, they must be strings of equal length, and\n",
            "    in the resulting dictionary, each character in x will be mapped to the\n",
            "    character at the same position in y. If there is a third argument, it\n",
            "    must be a string, whose characters will be mapped to None in the result.\n",
            "\n"
          ]
        }
      ]
    },
    {
      "cell_type": "code",
      "source": [
        ""
      ],
      "metadata": {
        "id": "DOXQdIPgwhBK"
      },
      "execution_count": null,
      "outputs": []
    }
  ]
}